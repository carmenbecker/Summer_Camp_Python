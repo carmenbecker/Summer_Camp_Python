{
 "cells": [
  {
   "cell_type": "code",
   "execution_count": null,
   "metadata": {},
   "outputs": [],
   "source": [
    "!pip install ipytest"
   ]
  },
  {
   "cell_type": "code",
   "execution_count": null,
   "metadata": {},
   "outputs": [],
   "source": [
    "import ipytest\n",
    "ipytest.autoconfig()"
   ]
  },
  {
   "cell_type": "code",
   "execution_count": null,
   "metadata": {},
   "outputs": [],
   "source": [
    "# A. donuts\n",
    "# Given an int count of a number of donuts, return a string\n",
    "# of the form 'Number of donuts: <count>', where <count> is the number\n",
    "# passed in. However, if the count is 10 or more, then use the word 'many'\n",
    "# instead of the actual count.\n",
    "# So donuts(5) returns 'Number of donuts: 5'\n",
    "# and donuts(23) returns 'Number of donuts: many'\n",
    "def donuts(count):\n",
    "  if count >= 10: \n",
    "    return \"Number of donuts: many\"\n",
    "  return \"Number of donuts: \" + str(count) "
   ]
  },
  {
   "cell_type": "code",
   "execution_count": null,
   "metadata": {},
   "outputs": [],
   "source": [
    "# Provided main() calls the above functions with interesting inputs,\n",
    "# using test() to check if each result is correct or not.\n",
    "%%ipytest -qq\n",
    "def test_donuts():\n",
    "  \n",
    "  # Each line calls donuts, compares its result to the expected for that call.\n",
    "  assert donuts(4) == 'Number of donuts: 4'\n",
    "  assert donuts(9) == 'Number of donuts: 9'\n",
    "  assert donuts(12) ==  'Number of donuts: many'\n",
    "  assert donuts(99) == 'Number of donuts: many'"
   ]
  },
  {
   "cell_type": "code",
   "execution_count": null,
   "metadata": {},
   "outputs": [],
   "source": [
    "# B. both_ends\n",
    "# Given a string s, return a string made of the first 2\n",
    "# and the last 2 chars of the original string,\n",
    "# so 'spring' yields 'spng'. However, if the string length\n",
    "# is less than 2, return instead the empty string.\n",
    "def both_ends(s):\n",
    "  print(len(s))\n",
    "  if len(s) <= 2:\n",
    "    return \"\"\n",
    "  else:\n",
    "    return f'{s[0]}{s[1]}{s[-2]}{s[-1]}'"
   ]
  },
  {
   "cell_type": "code",
   "execution_count": null,
   "metadata": {},
   "outputs": [],
   "source": [
    "%%ipytest -qq\n",
    "def test_both_ends():\n",
    "  print(both_ends('spring'))\n",
    "  assert both_ends('spring') == 'spng'\n",
    "  assert both_ends('Hello') == 'Helo'\n",
    "  assert both_ends('a') == ''\n",
    "  assert both_ends('xyz') == 'xyyz'"
   ]
  },
  {
   "cell_type": "code",
   "execution_count": null,
   "metadata": {},
   "outputs": [],
   "source": [
    "# C. fix_start\n",
    "# Given a string s, return a string\n",
    "# where all occurences of its first char have\n",
    "# been changed to '*', except do not change\n",
    "# the first char itself.\n",
    "# e.g. 'babble' yields 'ba**le'\n",
    "# Assume that the string is length 1 or more.\n",
    "# Hint: s.replace(stra, strb) returns a version of string s\n",
    "# where all instances of stra have been replaced by strb.\n",
    "def fix_start(s):\n",
    "  first_letter = s[0]\n",
    "  c = f'{s[0]}'\n",
    "  sub = s.removeprefix(c)\n",
    "  changed = sub.replace(c,\"*\")\n",
    "  return first_letter + changed"
   ]
  },
  {
   "cell_type": "code",
   "execution_count": null,
   "metadata": {},
   "outputs": [],
   "source": [
    "%%ipytest -qq\n",
    "def test_fix_start():\n",
    "  print (fix_start)\n",
    "  assert fix_start('babble') == 'ba**le'\n",
    "  assert fix_start('aardvark') == 'a*rdv*rk'\n",
    "  assert fix_start('google') == 'goo*le'\n",
    "  assert fix_start('donut') == 'donut'"
   ]
  },
  {
   "cell_type": "code",
   "execution_count": null,
   "metadata": {},
   "outputs": [],
   "source": [
    "# D. MixUp\n",
    "# Given strings a and b, return a single string with a and b separated\n",
    "# by a space '<a> <b>', except swap the first 2 chars of each string.\n",
    "# e.g.\n",
    "#   'mix', pod' -> 'pox mid'\n",
    "#   'dog', 'dinner' -> 'dig donner'\n",
    "# Assume a and b are length 2 or more.\n",
    "def mix_up(a, b):\n",
    "  new_a = b[:2] + a[2:]\n",
    "  new_b = a[:2] + b[2:]\n",
    "  \n",
    "  return f'{new_a} {new_b}'"
   ]
  },
  {
   "cell_type": "code",
   "execution_count": null,
   "metadata": {},
   "outputs": [],
   "source": [
    "%%ipytest -qq\n",
    "def test_mix_up():\n",
    "  print (mix_up)\n",
    "  assert mix_up('mix', 'pod') == 'pox mid'\n",
    "  assert mix_up('dog', 'dinner') == 'dig donner'\n",
    "  assert mix_up('gnash', 'sport') == 'spash gnort'\n",
    "  assert mix_up('pezzy', 'firm') == 'fizzy perm'"
   ]
  }
 ],
 "metadata": {
  "language_info": {
   "name": "python"
  },
  "orig_nbformat": 4
 },
 "nbformat": 4,
 "nbformat_minor": 2
}
